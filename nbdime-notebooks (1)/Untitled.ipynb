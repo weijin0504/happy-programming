{
 "cells": [
  {
   "cell_type": "code",
   "execution_count": 2,
   "metadata": {},
   "outputs": [
    {
     "name": "stdout",
     "output_type": "stream",
     "text": [
      "Collecting cookiecutter\n",
      "\u001b[?25l  Downloading https://files.pythonhosted.org/packages/86/c9/7184edfb0e89abedc37211743d1420810f6b49ae4fa695dfc443c273470d/cookiecutter-1.7.0-py2.py3-none-any.whl (40kB)\n",
      "\u001b[K    100% |████████████████████████████████| 40kB 4.6MB/s ta 0:00:01\n",
      "\u001b[?25hCollecting poyo>=0.1.0 (from cookiecutter)\n",
      "  Downloading https://files.pythonhosted.org/packages/42/50/0b0820601bde2eda403f47b9a4a1f270098ed0dd4c00c443d883164bdccc/poyo-0.5.0-py2.py3-none-any.whl\n",
      "Collecting whichcraft>=0.4.0 (from cookiecutter)\n",
      "  Downloading https://files.pythonhosted.org/packages/b5/a2/81887a0dae2e4d2adc70d9a3557fdda969f863ced51cd3c47b587d25bce5/whichcraft-0.6.1-py2.py3-none-any.whl\n",
      "Collecting jinja2-time>=0.1.0 (from cookiecutter)\n",
      "  Downloading https://files.pythonhosted.org/packages/6a/a1/d44fa38306ffa34a7e1af09632b158e13ec89670ce491f8a15af3ebcb4e4/jinja2_time-0.2.0-py2.py3-none-any.whl\n",
      "Requirement already satisfied: click>=7.0 in /anaconda3/lib/python3.7/site-packages (from cookiecutter) (7.0)\n",
      "Requirement already satisfied: requests>=2.18.0 in /anaconda3/lib/python3.7/site-packages (from cookiecutter) (2.21.0)\n",
      "Requirement already satisfied: jinja2>=2.7 in /anaconda3/lib/python3.7/site-packages (from cookiecutter) (2.10)\n",
      "Collecting binaryornot>=0.2.0 (from cookiecutter)\n",
      "  Downloading https://files.pythonhosted.org/packages/24/7e/f7b6f453e6481d1e233540262ccbfcf89adcd43606f44a028d7f5fae5eb2/binaryornot-0.4.4-py2.py3-none-any.whl\n",
      "Requirement already satisfied: future>=0.15.2 in /anaconda3/lib/python3.7/site-packages (from cookiecutter) (0.17.1)\n",
      "Collecting arrow (from jinja2-time>=0.1.0->cookiecutter)\n",
      "\u001b[?25l  Downloading https://files.pythonhosted.org/packages/92/fa/f84896dede5decf284e6922134bf03fd26c90870bbf8015f4e8ee2a07bcc/arrow-0.15.5-py2.py3-none-any.whl (46kB)\n",
      "\u001b[K    100% |████████████████████████████████| 51kB 8.8MB/s eta 0:00:01\n",
      "\u001b[?25hRequirement already satisfied: idna<2.9,>=2.5 in /anaconda3/lib/python3.7/site-packages (from requests>=2.18.0->cookiecutter) (2.8)\n",
      "Requirement already satisfied: urllib3<1.25,>=1.21.1 in /anaconda3/lib/python3.7/site-packages (from requests>=2.18.0->cookiecutter) (1.24.1)\n",
      "Requirement already satisfied: chardet<3.1.0,>=3.0.2 in /anaconda3/lib/python3.7/site-packages (from requests>=2.18.0->cookiecutter) (3.0.4)\n",
      "Requirement already satisfied: certifi>=2017.4.17 in /anaconda3/lib/python3.7/site-packages (from requests>=2.18.0->cookiecutter) (2019.3.9)\n",
      "Requirement already satisfied: MarkupSafe>=0.23 in /anaconda3/lib/python3.7/site-packages (from jinja2>=2.7->cookiecutter) (1.1.1)\n",
      "Requirement already satisfied: python-dateutil in /anaconda3/lib/python3.7/site-packages (from arrow->jinja2-time>=0.1.0->cookiecutter) (2.8.0)\n",
      "Requirement already satisfied: six>=1.5 in /anaconda3/lib/python3.7/site-packages (from python-dateutil->arrow->jinja2-time>=0.1.0->cookiecutter) (1.12.0)\n",
      "Installing collected packages: poyo, whichcraft, arrow, jinja2-time, binaryornot, cookiecutter\n",
      "Successfully installed arrow-0.15.5 binaryornot-0.4.4 cookiecutter-1.7.0 jinja2-time-0.2.0 poyo-0.5.0 whichcraft-0.6.1\n"
     ]
    }
   ],
   "source": [
    "!pip install cookiecutter"
   ]
  },
  {
   "cell_type": "code",
   "execution_count": null,
   "metadata": {},
   "outputs": [],
   "source": []
  }
 ],
 "metadata": {
  "kernelspec": {
   "display_name": "Python 3",
   "language": "python",
   "name": "python3"
  },
  "language_info": {
   "codemirror_mode": {
    "name": "ipython",
    "version": 3
   },
   "file_extension": ".py",
   "mimetype": "text/x-python",
   "name": "python",
   "nbconvert_exporter": "python",
   "pygments_lexer": "ipython3",
   "version": "3.7.3"
  }
 },
 "nbformat": 4,
 "nbformat_minor": 2
}
